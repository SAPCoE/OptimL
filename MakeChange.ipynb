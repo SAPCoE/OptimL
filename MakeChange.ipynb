{
 "cells": [
  {
   "cell_type": "code",
   "execution_count": 1,
   "metadata": {},
   "outputs": [
    {
     "name": "stdout",
     "output_type": "stream",
     "text": [
      "Requirement already satisfied: pyomo in c:\\users\\d054070\\anaconda3\\lib\\site-packages (6.4.2)\n",
      "Requirement already satisfied: ply in c:\\users\\d054070\\anaconda3\\lib\\site-packages (from pyomo) (3.11)\n"
     ]
    },
    {
     "name": "stderr",
     "output_type": "stream",
     "text": [
      "WARNING: Ignoring invalid distribution -urobipy (c:\\users\\d054070\\anaconda3\\lib\\site-packages)\n",
      "WARNING: Ignoring invalid distribution -urobipy (c:\\users\\d054070\\anaconda3\\lib\\site-packages)\n",
      "WARNING: Ignoring invalid distribution -urobipy (c:\\users\\d054070\\anaconda3\\lib\\site-packages)\n",
      "WARNING: Ignoring invalid distribution -urobipy (c:\\users\\d054070\\anaconda3\\lib\\site-packages)\n",
      "WARNING: Ignoring invalid distribution -urobipy (c:\\users\\d054070\\anaconda3\\lib\\site-packages)\n",
      "WARNING: Ignoring invalid distribution -urobipy (c:\\users\\d054070\\anaconda3\\lib\\site-packages)\n"
     ]
    },
    {
     "name": "stdout",
     "output_type": "stream",
     "text": [
      "Requirement already satisfied: gurobipy in c:\\users\\d054070\\anaconda3\\lib\\site-packages (9.5.2)\n"
     ]
    },
    {
     "name": "stderr",
     "output_type": "stream",
     "text": [
      "WARNING: Ignoring invalid distribution -urobipy (c:\\users\\d054070\\anaconda3\\lib\\site-packages)\n",
      "WARNING: Ignoring invalid distribution -urobipy (c:\\users\\d054070\\anaconda3\\lib\\site-packages)\n",
      "WARNING: Ignoring invalid distribution -urobipy (c:\\users\\d054070\\anaconda3\\lib\\site-packages)\n",
      "WARNING: Ignoring invalid distribution -urobipy (c:\\users\\d054070\\anaconda3\\lib\\site-packages)\n",
      "WARNING: Ignoring invalid distribution -urobipy (c:\\users\\d054070\\anaconda3\\lib\\site-packages)\n",
      "WARNING: Ignoring invalid distribution -urobipy (c:\\users\\d054070\\anaconda3\\lib\\site-packages)\n"
     ]
    },
    {
     "name": "stdout",
     "output_type": "stream",
     "text": [
      "Requirement already satisfied: xpress in c:\\users\\d054070\\anaconda3\\lib\\site-packages (8.14.2)\n",
      "Requirement already satisfied: numpy>=1.19 in c:\\users\\d054070\\anaconda3\\lib\\site-packages (from xpress) (1.21.5)\n"
     ]
    },
    {
     "name": "stderr",
     "output_type": "stream",
     "text": [
      "WARNING: Ignoring invalid distribution -urobipy (c:\\users\\d054070\\anaconda3\\lib\\site-packages)\n",
      "WARNING: Ignoring invalid distribution -urobipy (c:\\users\\d054070\\anaconda3\\lib\\site-packages)\n",
      "WARNING: Ignoring invalid distribution -urobipy (c:\\users\\d054070\\anaconda3\\lib\\site-packages)\n",
      "WARNING: Ignoring invalid distribution -urobipy (c:\\users\\d054070\\anaconda3\\lib\\site-packages)\n",
      "WARNING: Ignoring invalid distribution -urobipy (c:\\users\\d054070\\anaconda3\\lib\\site-packages)\n",
      "WARNING: Ignoring invalid distribution -urobipy (c:\\users\\d054070\\anaconda3\\lib\\site-packages)\n"
     ]
    }
   ],
   "source": [
    "!pip install pyomo\n",
    "!pip install gurobipy\n",
    "!pip install xpress"
   ]
  },
  {
   "cell_type": "code",
   "execution_count": 1,
   "metadata": {},
   "outputs": [],
   "source": [
    "# problem data\n",
    "coins = {\n",
    "    'penny': 1,\n",
    "    'nickel': 5,\n",
    "    'dime': 10,\n",
    "    'quarter': 25\n",
    "}"
   ]
  },
  {
   "cell_type": "code",
   "execution_count": 4,
   "metadata": {},
   "outputs": [],
   "source": [
    "import pyomo\n",
    "from pyomo.environ import *\n",
    "\n",
    "def make_change(amount, coins):\n",
    "    model = ConcreteModel()\n",
    "    model.x = Var(coins.keys(), domain=NonNegativeIntegers)\n",
    "    \n",
    "    model.amount = Constraint(expr = sum(model.x[c]*coins[c] for c in coins.keys()) == amount)\n",
    "    \n",
    "    model.total = Objective(expr = sum(model.x[c] for c in coins.keys()), sense=minimize)\n",
    "\n",
    "    SolverFactory('gurobi').solve(model)\n",
    "    return {c: int(model.x[c]()) for c in coins.keys()} \n",
    "            "
   ]
  },
  {
   "cell_type": "code",
   "execution_count": 5,
   "metadata": {},
   "outputs": [
    {
     "data": {
      "text/plain": [
       "{'penny': 4, 'nickel': 1, 'dime': 0, 'quarter': 41}"
      ]
     },
     "execution_count": 5,
     "metadata": {},
     "output_type": "execute_result"
    }
   ],
   "source": [
    "import os\n",
    "os.environ['GRB_LICENSE_FILE']=\"C:\\\\Users\\\\D054070\\\\Anaconda3\\\\Lib\\\\site-packages\\\\gurobipy\\\\gurobi.lic\"\n",
    "            \n",
    "make_change(1034, coins)"
   ]
  },
  {
   "cell_type": "code",
   "execution_count": 6,
   "metadata": {},
   "outputs": [],
   "source": [
    "import gurobipy as gp\n",
    "def make_change_gurobi(amount, coins):\n",
    "    model = gp.Model('coin-changer-gurobi')\n",
    "    x = model.addVars(coins.keys(), vtype=gp.GRB.INTEGER,name='x')\n",
    "    model.addConstr(sum(x[c]*coins[c] for c in coins.keys()) == amount)\n",
    "    model.setObjective(sum(x[c] for c in coins.keys()), sense=gp.GRB.MINIMIZE)\n",
    "   \n",
    "    model.optimize()\n",
    "    return {c: int(x[c].x) for c in coins.keys()} \n",
    "            "
   ]
  },
  {
   "cell_type": "code",
   "execution_count": 7,
   "metadata": {},
   "outputs": [
    {
     "name": "stdout",
     "output_type": "stream",
     "text": [
      "Restricted license - for non-production use only - expires 2023-10-25\n",
      "Gurobi Optimizer version 9.5.2 build v9.5.2rc0 (win64)\n",
      "Thread count: 4 physical cores, 8 logical processors, using up to 8 threads\n",
      "Optimize a model with 1 rows, 4 columns and 4 nonzeros\n",
      "Model fingerprint: 0x2ce44f57\n",
      "Variable types: 0 continuous, 4 integer (0 binary)\n",
      "Coefficient statistics:\n",
      "  Matrix range     [1e+00, 3e+01]\n",
      "  Objective range  [1e+00, 1e+00]\n",
      "  Bounds range     [0e+00, 0e+00]\n",
      "  RHS range        [1e+03, 1e+03]\n",
      "Presolve removed 1 rows and 4 columns\n",
      "Presolve time: 0.00s\n",
      "Presolve: All rows and columns removed\n",
      "\n",
      "Explored 0 nodes (0 simplex iterations) in 0.01 seconds (0.00 work units)\n",
      "Thread count was 1 (of 8 available processors)\n",
      "\n",
      "Solution count 1: 46 \n",
      "\n",
      "Optimal solution found (tolerance 1.00e-04)\n",
      "Best objective 4.600000000000e+01, best bound 4.600000000000e+01, gap 0.0000%\n"
     ]
    },
    {
     "data": {
      "text/plain": [
       "{'penny': 4, 'nickel': 1, 'dime': 0, 'quarter': 41}"
      ]
     },
     "execution_count": 7,
     "metadata": {},
     "output_type": "execute_result"
    }
   ],
   "source": [
    "make_change_gurobi(1034, coins)"
   ]
  },
  {
   "cell_type": "code",
   "execution_count": 8,
   "metadata": {},
   "outputs": [],
   "source": [
    "import xpress as xp\n",
    "def make_change_xpress(amount, coins):\n",
    "    model = xp.problem('coin-changer-xpress')\n",
    "    x = {(c): xp.var(vartype=xp.integer,name='x(' + c + ')') for c in coins.keys()}\n",
    "    model.addVariable(x)\n",
    "    model.addConstraint(sum(x[c]*coins[c] for c in coins.keys()) == amount)\n",
    "    model.setObjective(sum(x[c] for c in coins.keys()), sense=xp.minimize)\n",
    "    model.solve()\n",
    "    return {c: int(model.getSolution(x[c])) for c in coins.keys()} "
   ]
  },
  {
   "cell_type": "code",
   "execution_count": 9,
   "metadata": {},
   "outputs": [
    {
     "name": "stdout",
     "output_type": "stream",
     "text": [
      "Using the Community license in this session. If you have a full Xpress license, pass the full path to your license file to xpress.init(). If you want to use the FICO Community license and no longer want to see this message, use the following code before using the xpress module:\n",
      "  xpress.init('c:/Users/D054070/Anaconda3/lib/site-packages/xpress/license/community-xpauth.xpr')\n",
      "FICO Xpress v8.14.2, Community, solve started 17:01:25, Oct 11, 2022\n",
      "Heap usage: 381KB (peak 381KB, 252KB system)\n",
      "Minimizing MILP noname using up to 8 threads and up to 15GB memory, with these control settings:\n",
      "OUTPUTLOG = 1\n",
      "Original problem has:\n",
      "         1 rows            4 cols            4 elements         4 globals\n",
      "Presolved problem has:\n",
      "         1 rows            3 cols            3 elements         3 globals\n",
      "LP relaxation tightened\n",
      "Presolve finished in 0 seconds\n",
      "Heap usage: 410KB (peak 417KB, 252KB system)\n",
      "\n",
      "Coefficient range                    original                 solved        \n",
      "  Coefficients   [min,max] : [ 1.00e+00,  2.50e+01] / [ 2.50e-01,  1.25e+00]\n",
      "  RHS and bounds [min,max] : [ 1.03e+03,  1.03e+03] / [ 4.10e+01,  2.06e+02]\n",
      "  Objective      [min,max] : [ 1.00e+00,  1.00e+00] / [ 1.00e+00,  1.00e+00]\n",
      "Autoscaling applied standard scaling\n",
      "\n",
      "Will try to keep branch and bound tree memory usage below 8.8GB\n",
      " *** Solution found:   200.000000   Time:   0    Heuristic: e ***\n",
      "Starting concurrent solve with dual (1 thread)\n",
      "\n",
      " Concurrent-Solve,   0s\n",
      "            Dual        \n",
      "    objective   dual inf\n",
      " D  45.500000   .0000000\n",
      "------- optimal --------\n",
      "Concurrent statistics:\n",
      "      Dual: 1 simplex iterations, 0.00s\n",
      "Optimal solution found\n",
      " \n",
      "   Its         Obj Value      S   Ninf  Nneg   Sum Dual Inf  Time\n",
      "     1         45.500000      D      0     0        .000000     0\n",
      "Dual solved problem\n",
      "  1 simplex iterations in 0.00 seconds at time 0\n",
      "\n",
      "Final objective                       : 4.550000000000000e+01\n",
      "  Max primal violation      (abs/rel) :       0.0 /       0.0\n",
      "  Max dual violation        (abs/rel) :       0.0 /       0.0\n",
      "  Max complementarity viol. (abs/rel) :       0.0 /       0.0\n",
      "\n",
      "Starting root cutting & heuristics\n",
      " \n",
      " Its Type    BestSoln    BestBound   Sols    Add    Del     Gap     GInf   Time\n",
      "a           48.000000    45.500000      2                  5.21%       0      0\n",
      "b           46.000000    45.500000      3                  1.09%       0      0\n",
      " *** Search completed ***\n",
      "Uncrunching matrix\n",
      "Final MIP objective                   : 4.600000000000000e+01\n",
      "Final MIP bound                       : 4.600000000000000e+01\n",
      "  Solution time / primaldual integral :         0s/ 77.820192%\n",
      "  Number of solutions found / nodes   :         3 /         1\n",
      "  Max primal violation      (abs/rel) :       0.0 /       0.0\n",
      "  Max integer violation     (abs    ) :       0.0\n",
      "\n"
     ]
    },
    {
     "data": {
      "text/plain": [
       "{'penny': 4, 'nickel': 1, 'dime': 0, 'quarter': 41}"
      ]
     },
     "execution_count": 9,
     "metadata": {},
     "output_type": "execute_result"
    }
   ],
   "source": [
    "make_change_xpress(1034, coins)"
   ]
  }
 ],
 "metadata": {
  "kernelspec": {
   "display_name": "Python 3.9.12 ('base')",
   "language": "python",
   "name": "python3"
  },
  "language_info": {
   "codemirror_mode": {
    "name": "ipython",
    "version": 3
   },
   "file_extension": ".py",
   "mimetype": "text/x-python",
   "name": "python",
   "nbconvert_exporter": "python",
   "pygments_lexer": "ipython3",
   "version": "3.9.12"
  },
  "orig_nbformat": 4,
  "vscode": {
   "interpreter": {
    "hash": "6018768e59cd00276be9481c08f3143aa94ada0b600bfe7891145d82ff916aef"
   }
  }
 },
 "nbformat": 4,
 "nbformat_minor": 2
}
